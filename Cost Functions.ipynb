{
 "cells": [
  {
   "cell_type": "code",
   "execution_count": 1,
   "metadata": {},
   "outputs": [],
   "source": [
    "# ! conda install pandas --yes"
   ]
  },
  {
   "cell_type": "code",
   "execution_count": 2,
   "metadata": {},
   "outputs": [],
   "source": [
    "import numpy as np"
   ]
  },
  {
   "cell_type": "markdown",
   "metadata": {},
   "source": [
    "### Using Python Fuction"
   ]
  },
  {
   "cell_type": "code",
   "execution_count": 3,
   "metadata": {},
   "outputs": [],
   "source": [
    "# Suppose we have two list y_predicted and y_actual\n",
    "y_pred = np.array([20,30,10,5,12])\n",
    "y_actual = np.array([19,20,10,3,10])"
   ]
  },
  {
   "cell_type": "code",
   "execution_count": 4,
   "metadata": {},
   "outputs": [],
   "source": [
    "def mae(y_pred, y_actual):\n",
    "    total_error = 0\n",
    "    for pred, actual in zip(y_pred, y_actual):\n",
    "        total_error += abs(pred-actual)\n",
    "    print(f'Absolute error {total_error}') \n",
    "    mae = total_error/ len(y_pred)\n",
    "    print(f'Mean absolute error {mae}') "
   ]
  },
  {
   "cell_type": "code",
   "execution_count": 5,
   "metadata": {},
   "outputs": [
    {
     "name": "stdout",
     "output_type": "stream",
     "text": [
      "Absolute error 15\n",
      "Mean absolute error 3.0\n"
     ]
    }
   ],
   "source": [
    "mae(y_pred, y_actual)"
   ]
  },
  {
   "cell_type": "markdown",
   "metadata": {},
   "source": [
    "### Using Numpy"
   ]
  },
  {
   "cell_type": "code",
   "execution_count": 6,
   "metadata": {},
   "outputs": [
    {
     "name": "stdout",
     "output_type": "stream",
     "text": [
      "Absolute error 15\n",
      "Mean Absolute error 3.0\n"
     ]
    }
   ],
   "source": [
    "print(f\"Absolute error {np.sum(np.abs(y_pred - y_actual))}\")\n",
    "print(f\"Mean Absolute error {np.mean(np.abs(y_pred - y_actual))}\")"
   ]
  },
  {
   "cell_type": "code",
   "execution_count": null,
   "metadata": {},
   "outputs": [],
   "source": []
  }
 ],
 "metadata": {
  "kernelspec": {
   "display_name": "Python 3",
   "language": "python",
   "name": "python3"
  },
  "language_info": {
   "codemirror_mode": {
    "name": "ipython",
    "version": 3
   },
   "file_extension": ".py",
   "mimetype": "text/x-python",
   "name": "python",
   "nbconvert_exporter": "python",
   "pygments_lexer": "ipython3",
   "version": "3.8.3"
  }
 },
 "nbformat": 4,
 "nbformat_minor": 4
}
